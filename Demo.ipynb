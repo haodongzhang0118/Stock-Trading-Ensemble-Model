{
 "cells": [
  {
   "cell_type": "code",
   "execution_count": 2,
   "id": "9fae4a9b",
   "metadata": {
    "scrolled": true
   },
   "outputs": [
    {
     "name": "stdout",
     "output_type": "stream",
     "text": [
      "Requirement already satisfied: stable_baselines3 in c:\\python38\\lib\\site-packages (2.2.1)\n",
      "Requirement already satisfied: matplotlib in c:\\python38\\lib\\site-packages (from stable_baselines3) (3.6.2)\n",
      "Requirement already satisfied: gymnasium<0.30,>=0.28.1 in c:\\python38\\lib\\site-packages (from stable_baselines3) (0.29.1)\n",
      "Requirement already satisfied: numpy>=1.20 in c:\\python38\\lib\\site-packages (from stable_baselines3) (1.23.5)\n",
      "Requirement already satisfied: cloudpickle in c:\\python38\\lib\\site-packages (from stable_baselines3) (3.0.0)\n",
      "Requirement already satisfied: torch>=1.13 in c:\\python38\\lib\\site-packages (from stable_baselines3) (2.1.1)\n",
      "Requirement already satisfied: pandas in c:\\python38\\lib\\site-packages (from stable_baselines3) (2.0.3)\n",
      "Requirement already satisfied: typing-extensions>=4.3.0 in c:\\python38\\lib\\site-packages (from gymnasium<0.30,>=0.28.1->stable_baselines3) (4.8.0)\n",
      "Requirement already satisfied: farama-notifications>=0.0.1 in c:\\python38\\lib\\site-packages (from gymnasium<0.30,>=0.28.1->stable_baselines3) (0.0.4)\n",
      "Requirement already satisfied: importlib-metadata>=4.8.0 in c:\\python38\\lib\\site-packages (from gymnasium<0.30,>=0.28.1->stable_baselines3) (5.1.0)\n",
      "Requirement already satisfied: filelock in c:\\python38\\lib\\site-packages (from torch>=1.13->stable_baselines3) (3.13.1)\n",
      "Requirement already satisfied: networkx in c:\\python38\\lib\\site-packages (from torch>=1.13->stable_baselines3) (2.8.8)\n",
      "Requirement already satisfied: sympy in c:\\python38\\lib\\site-packages (from torch>=1.13->stable_baselines3) (1.12)\n",
      "Requirement already satisfied: jinja2 in c:\\python38\\lib\\site-packages (from torch>=1.13->stable_baselines3) (3.1.2)\n",
      "Requirement already satisfied: fsspec in c:\\python38\\lib\\site-packages (from torch>=1.13->stable_baselines3) (2023.10.0)\n",
      "Requirement already satisfied: packaging>=20.0 in c:\\python38\\lib\\site-packages (from matplotlib->stable_baselines3) (21.3)\n",
      "Requirement already satisfied: pyparsing>=2.2.1 in c:\\python38\\lib\\site-packages (from matplotlib->stable_baselines3) (3.0.9)\n",
      "Requirement already satisfied: python-dateutil>=2.7 in c:\\python38\\lib\\site-packages (from matplotlib->stable_baselines3) (2.8.2)\n",
      "Requirement already satisfied: fonttools>=4.22.0 in c:\\python38\\lib\\site-packages (from matplotlib->stable_baselines3) (4.38.0)\n",
      "Requirement already satisfied: cycler>=0.10 in c:\\python38\\lib\\site-packages (from matplotlib->stable_baselines3) (0.11.0)\n",
      "Requirement already satisfied: kiwisolver>=1.0.1 in c:\\python38\\lib\\site-packages (from matplotlib->stable_baselines3) (1.4.4)\n",
      "Requirement already satisfied: pillow>=6.2.0 in c:\\python38\\lib\\site-packages (from matplotlib->stable_baselines3) (9.3.0)\n",
      "Requirement already satisfied: contourpy>=1.0.1 in c:\\python38\\lib\\site-packages (from matplotlib->stable_baselines3) (1.0.6)\n",
      "Requirement already satisfied: tzdata>=2022.1 in c:\\python38\\lib\\site-packages (from pandas->stable_baselines3) (2023.3)\n",
      "Requirement already satisfied: pytz>=2020.1 in c:\\python38\\lib\\site-packages (from pandas->stable_baselines3) (2023.3.post1)\n",
      "Requirement already satisfied: zipp>=0.5 in c:\\python38\\lib\\site-packages (from importlib-metadata>=4.8.0->gymnasium<0.30,>=0.28.1->stable_baselines3) (3.11.0)\n",
      "Requirement already satisfied: six>=1.5 in c:\\python38\\lib\\site-packages (from python-dateutil>=2.7->matplotlib->stable_baselines3) (1.16.0)\n",
      "Requirement already satisfied: MarkupSafe>=2.0 in c:\\python38\\lib\\site-packages (from jinja2->torch>=1.13->stable_baselines3) (2.1.1)\n",
      "Requirement already satisfied: mpmath>=0.19 in c:\\python38\\lib\\site-packages (from sympy->torch>=1.13->stable_baselines3) (1.3.0)\n"
     ]
    },
    {
     "name": "stderr",
     "output_type": "stream",
     "text": [
      "\n",
      "[notice] A new release of pip is available: 23.0 -> 23.3.1\n",
      "[notice] To update, run: C:\\Python38\\python.exe -m pip install --upgrade pip\n"
     ]
    },
    {
     "name": "stdout",
     "output_type": "stream",
     "text": [
      "Requirement already satisfied: gymnasium in c:\\python38\\lib\\site-packages (0.29.1)\n",
      "Requirement already satisfied: numpy>=1.21.0 in c:\\python38\\lib\\site-packages (from gymnasium) (1.23.5)\n",
      "Requirement already satisfied: farama-notifications>=0.0.1 in c:\\python38\\lib\\site-packages (from gymnasium) (0.0.4)\n",
      "Requirement already satisfied: typing-extensions>=4.3.0 in c:\\python38\\lib\\site-packages (from gymnasium) (4.8.0)\n",
      "Requirement already satisfied: importlib-metadata>=4.8.0 in c:\\python38\\lib\\site-packages (from gymnasium) (5.1.0)\n",
      "Requirement already satisfied: cloudpickle>=1.2.0 in c:\\python38\\lib\\site-packages (from gymnasium) (3.0.0)\n",
      "Requirement already satisfied: zipp>=0.5 in c:\\python38\\lib\\site-packages (from importlib-metadata>=4.8.0->gymnasium) (3.11.0)\n"
     ]
    },
    {
     "name": "stderr",
     "output_type": "stream",
     "text": [
      "\n",
      "[notice] A new release of pip is available: 23.0 -> 23.3.1\n",
      "[notice] To update, run: C:\\Python38\\python.exe -m pip install --upgrade pip\n"
     ]
    },
    {
     "name": "stdout",
     "output_type": "stream",
     "text": [
      "Collecting git+https://github.com/AI4Finance-Foundation/FinRL.git\n",
      "  Cloning https://github.com/AI4Finance-Foundation/FinRL.git to c:\\users\\11429\\appdata\\local\\temp\\pip-req-build-adqdqw85\n",
      "  Resolved https://github.com/AI4Finance-Foundation/FinRL.git to commit 453349afc2ee5eac8cc7f5766638c50f595df2d0\n",
      "  Installing build dependencies: started\n",
      "  Installing build dependencies: finished with status 'done'\n",
      "  Getting requirements to build wheel: started\n",
      "  Getting requirements to build wheel: finished with status 'done'\n",
      "  Preparing metadata (pyproject.toml): started\n",
      "  Preparing metadata (pyproject.toml): finished with status 'done'\n",
      "Collecting elegantrl@ git+https://github.com/AI4Finance-Foundation/ElegantRL.git#egg=elegantrl\n",
      "  Cloning https://github.com/AI4Finance-Foundation/ElegantRL.git to c:\\users\\11429\\appdata\\local\\temp\\pip-install-yy_221_c\\elegantrl_2b1aba6f51174d65b200bde56ef1c73c\n",
      "  Resolved https://github.com/AI4Finance-Foundation/ElegantRL.git to commit b4b9d662b9f9cb7cc368ac2b1036b5119eb20be4\n",
      "  Preparing metadata (setup.py): started\n",
      "  Preparing metadata (setup.py): finished with status 'done'\n",
      "Collecting exchange-calendars<5,>=4\n",
      "  Using cached exchange_calendars-4.2.8-py3-none-any.whl (191 kB)\n",
      "Requirement already satisfied: yfinance<0.3,>=0.2 in c:\\python38\\lib\\site-packages (from finrl==0.3.6) (0.2.33)\n",
      "Collecting pyfolio<0.10,>=0.9\n",
      "  Using cached pyfolio-0.9.2.tar.gz (91 kB)\n",
      "  Preparing metadata (setup.py): started\n",
      "  Preparing metadata (setup.py): finished with status 'done'\n",
      "Requirement already satisfied: stable-baselines3[extra]>=2.0.0a5 in c:\\python38\\lib\\site-packages (from finrl==0.3.6) (2.2.1)\n",
      "Collecting stockstats<0.6,>=0.5\n",
      "  Using cached stockstats-0.5.4-py2.py3-none-any.whl (21 kB)\n",
      "Collecting wrds<4,>=3\n",
      "  Using cached wrds-3.1.6-py3-none-any.whl (12 kB)\n",
      "Collecting alpaca-trade-api<4,>=3\n",
      "  Using cached alpaca_trade_api-3.0.2-py3-none-any.whl (34 kB)\n",
      "Collecting ccxt<4,>=3\n",
      "  Using cached ccxt-3.1.60-py2.py3-none-any.whl (4.0 MB)\n",
      "Collecting pyportfolioopt<2,>=1\n",
      "  Using cached pyportfolioopt-1.5.5-py3-none-any.whl (61 kB)\n",
      "Collecting jqdatasdk<2,>=1\n",
      "  Using cached jqdatasdk-1.9.2-py3-none-any.whl (167 kB)\n",
      "Requirement already satisfied: scikit-learn<2,>=1 in c:\\python38\\lib\\site-packages (from finrl==0.3.6) (1.1.3)\n",
      "Collecting ray[default,tune]<3,>=2\n",
      "  Using cached ray-2.8.1-cp38-cp38-win_amd64.whl (24.2 MB)\n"
     ]
    },
    {
     "name": "stderr",
     "output_type": "stream",
     "text": [
      "  Running command git clone --filter=blob:none --quiet https://github.com/AI4Finance-Foundation/FinRL.git 'C:\\Users\\11429\\AppData\\Local\\Temp\\pip-req-build-adqdqw85'\n",
      "  Running command git clone --filter=blob:none --quiet https://github.com/AI4Finance-Foundation/ElegantRL.git 'C:\\Users\\11429\\AppData\\Local\\Temp\\pip-install-yy_221_c\\elegantrl_2b1aba6f51174d65b200bde56ef1c73c'\n",
      "ERROR: Package 'finrl' requires a different Python: 3.8.3 not in '<3.11,>=3.10'\n",
      "\n",
      "[notice] A new release of pip is available: 23.0 -> 23.3.1\n",
      "[notice] To update, run: C:\\Python38\\python.exe -m pip install --upgrade pip\n"
     ]
    },
    {
     "name": "stdout",
     "output_type": "stream",
     "text": [
      "Requirement already satisfied: yfinance in c:\\python38\\lib\\site-packages (0.2.33)\n",
      "Requirement already satisfied: frozendict>=2.3.4 in c:\\python38\\lib\\site-packages (from yfinance) (2.3.10)\n",
      "Requirement already satisfied: pandas>=1.3.0 in c:\\python38\\lib\\site-packages (from yfinance) (2.0.3)\n",
      "Requirement already satisfied: beautifulsoup4>=4.11.1 in c:\\python38\\lib\\site-packages (from yfinance) (4.11.1)\n",
      "Requirement already satisfied: pytz>=2022.5 in c:\\python38\\lib\\site-packages (from yfinance) (2023.3.post1)\n",
      "Requirement already satisfied: requests>=2.31 in c:\\python38\\lib\\site-packages (from yfinance) (2.31.0)\n",
      "Requirement already satisfied: numpy>=1.16.5 in c:\\python38\\lib\\site-packages (from yfinance) (1.23.5)\n",
      "Requirement already satisfied: html5lib>=1.1 in c:\\python38\\lib\\site-packages (from yfinance) (1.1)\n",
      "Requirement already satisfied: appdirs>=1.4.4 in c:\\python38\\lib\\site-packages (from yfinance) (1.4.4)\n",
      "Requirement already satisfied: peewee>=3.16.2 in c:\\python38\\lib\\site-packages (from yfinance) (3.17.0)\n",
      "Requirement already satisfied: multitasking>=0.0.7 in c:\\python38\\lib\\site-packages (from yfinance) (0.0.11)\n",
      "Requirement already satisfied: lxml>=4.9.1 in c:\\python38\\lib\\site-packages (from yfinance) (4.9.3)\n",
      "Requirement already satisfied: soupsieve>1.2 in c:\\python38\\lib\\site-packages (from beautifulsoup4>=4.11.1->yfinance) (2.3.2.post1)\n",
      "Requirement already satisfied: six>=1.9 in c:\\python38\\lib\\site-packages (from html5lib>=1.1->yfinance) (1.16.0)\n",
      "Requirement already satisfied: webencodings in c:\\python38\\lib\\site-packages (from html5lib>=1.1->yfinance) (0.5.1)\n",
      "Requirement already satisfied: tzdata>=2022.1 in c:\\python38\\lib\\site-packages (from pandas>=1.3.0->yfinance) (2023.3)\n",
      "Requirement already satisfied: python-dateutil>=2.8.2 in c:\\python38\\lib\\site-packages (from pandas>=1.3.0->yfinance) (2.8.2)\n",
      "Requirement already satisfied: certifi>=2017.4.17 in c:\\python38\\lib\\site-packages (from requests>=2.31->yfinance) (2023.11.17)\n",
      "Requirement already satisfied: idna<4,>=2.5 in c:\\python38\\lib\\site-packages (from requests>=2.31->yfinance) (3.4)\n",
      "Requirement already satisfied: charset-normalizer<4,>=2 in c:\\python38\\lib\\site-packages (from requests>=2.31->yfinance) (3.3.2)\n",
      "Requirement already satisfied: urllib3<3,>=1.21.1 in c:\\python38\\lib\\site-packages (from requests>=2.31->yfinance) (2.1.0)\n"
     ]
    },
    {
     "name": "stderr",
     "output_type": "stream",
     "text": [
      "\n",
      "[notice] A new release of pip is available: 23.0 -> 23.3.1\n",
      "[notice] To update, run: C:\\Python38\\python.exe -m pip install --upgrade pip\n"
     ]
    }
   ],
   "source": [
    "!pip install stable_baselines3\n",
    "!pip install gymnasium\n",
    "!pip install git+https://github.com/AI4Finance-Foundation/FinRL.git\n",
    "!pip install yfinance"
   ]
  },
  {
   "cell_type": "code",
   "execution_count": 3,
   "id": "0a9ee0a8",
   "metadata": {},
   "outputs": [],
   "source": [
    "import matplotlib.pyplot as plt\n",
    "import yfinance as yf\n",
    "import pandas as pd\n",
    "from stable_baselines3 import A2C, PPO, DDPG\n",
    "from stockEnv import StockEnvMine\n",
    "from finrl.meta.preprocessor.preprocessors import data_split\n",
    "from Evaluation import RetrieveBenchmark"
   ]
  },
  {
   "cell_type": "code",
   "execution_count": 4,
   "id": "7e5c5e26",
   "metadata": {},
   "outputs": [],
   "source": [
    "df = pd.read_csv(\"Pre_ProcessdFile.csv\")"
   ]
  },
  {
   "cell_type": "code",
   "execution_count": 5,
   "id": "a9170f3b",
   "metadata": {},
   "outputs": [
    {
     "name": "stderr",
     "output_type": "stream",
     "text": [
      "c:\\Users\\11429\\anaconda3\\envs\\Pytorch\\lib\\site-packages\\stable_baselines3\\common\\save_util.py:166: UserWarning: Could not deserialize object lr_schedule. Consider using `custom_objects` argument to replace this object.\n",
      "Exception: Can't get attribute '_make_function' on <module 'cloudpickle.cloudpickle' from 'c:\\\\Users\\\\11429\\\\anaconda3\\\\envs\\\\Pytorch\\\\lib\\\\site-packages\\\\cloudpickle\\\\cloudpickle.py'>\n",
      "  warnings.warn(\n"
     ]
    }
   ],
   "source": [
    "dic = {\"ppo\": PPO, \"a2c\": A2C, \"ddpg\": DDPG}\n",
    "lis = [\"a2c\", \"a2c\", \"ddpg\", \"a2c\", \"a2c\", \"ddpg\"]\n",
    "models = []\n",
    "for i in lis:\n",
    "    model = dic[i].load(\"model_{}\".format(lis.index(i) + 1))\n",
    "    models.append(model)"
   ]
  },
  {
   "cell_type": "code",
   "execution_count": 6,
   "id": "d74ada57",
   "metadata": {},
   "outputs": [],
   "source": [
    "INDICATORS = ['macd',\n",
    " 'boll_ub',\n",
    " 'boll_lb',\n",
    " 'rsi_30',\n",
    " 'cci_30',\n",
    " 'dx_30',\n",
    " 'close_30_sma',\n",
    " 'close_60_sma']"
   ]
  },
  {
   "cell_type": "code",
   "execution_count": 7,
   "id": "7607c9d8",
   "metadata": {},
   "outputs": [
    {
     "name": "stdout",
     "output_type": "stream",
     "text": [
      "There are 29 stocks in the dataset.\n",
      "The state space we used for training is 291.\n",
      "The indicators we used is ['macd', 'boll_ub', 'boll_lb', 'rsi_30', 'cci_30', 'dx_30', 'close_30_sma', 'close_60_sma'].\n",
      "The reward scaling is 0.0001.\n",
      "The initial amount is 1000000.\n",
      "The share for each storck in the beginning is 0.\n",
      "Cost of buying and selling is 0.001.\n",
      "    \n"
     ]
    }
   ],
   "source": [
    "last_state = None\n",
    "initial = True\n",
    "deterministic = True\n",
    "account_list = []\n",
    "actions_list = []\n",
    "val_start = ['2022-04-04', '2022-07-06', '2022-10-04', '2023-01-04', '2023-04-05', '2023-07-07']\n",
    "val_end = ['2022-07-06', '2022-10-04', '2023-01-04', '2023-04-05', '2023-07-07', '2023-08-30']\n",
    "stock_dimension = len(df.tic.unique())\n",
    "state_space = 1 + 2*stock_dimension + 8 *stock_dimension\n",
    "buy_cost_list = sell_cost_list = [0.001] * stock_dimension\n",
    "num_stock_shares = [0] * stock_dimension\n",
    "InitialAmount = 1000000\n",
    "reward_scaling = 1e-4\n",
    "env_kwargs = {\n",
    "    \"hmax\": 100,\n",
    "    \"initial_amount\": InitialAmount,\n",
    "    \"num_stock_shares\": num_stock_shares,\n",
    "    \"buy_cost_pct\": buy_cost_list,\n",
    "    \"sell_cost_pct\": sell_cost_list,\n",
    "    \"state_space\": state_space,\n",
    "    \"stock_dim\": stock_dimension,\n",
    "    \"tech_indicator_list\": INDICATORS,\n",
    "    \"action_space\": stock_dimension,\n",
    "    \"reward_scaling\": reward_scaling\n",
    "}\n",
    "print(\"\"\"There are {} stocks in the dataset.\n",
    "The state space we used for training is {}.\n",
    "The indicators we used is {}.\n",
    "The reward scaling is {}.\n",
    "The initial amount is {}.\n",
    "The share for each storck in the beginning is 0.\n",
    "Cost of buying and selling is 0.001.\n",
    "    \"\"\".format(stock_dimension, state_space, INDICATORS, reward_scaling, InitialAmount))"
   ]
  },
  {
   "cell_type": "code",
   "execution_count": 8,
   "id": "ed1ac7ea",
   "metadata": {},
   "outputs": [
    {
     "name": "stdout",
     "output_type": "stream",
     "text": [
      "day: 62, episode: 2\n",
      "begin_total_asset: 1000000.00\n",
      "end_total_asset: 953728.16\n",
      "total_reward: -46271.84\n",
      "total_cost: 1062518.92\n",
      "total_trades: 837\n",
      "Sharpe: -0.814\n",
      "=================================\n",
      "Finished\n",
      "day: 62, episode: 2\n",
      "begin_total_asset: 1000000.00\n",
      "end_total_asset: 942405.33\n",
      "total_reward: -57594.67\n",
      "total_cost: 0.00\n",
      "total_trades: 851\n",
      "Sharpe: -1.160\n",
      "=================================\n",
      "Finished\n",
      "day: 62, episode: 2\n",
      "begin_total_asset: 1000000.00\n",
      "end_total_asset: 1138725.23\n",
      "total_reward: 138725.23\n",
      "total_cost: 495160.37\n",
      "total_trades: 1074\n",
      "Sharpe: 2.952\n",
      "=================================\n",
      "Finished\n",
      "day: 62, episode: 2\n",
      "begin_total_asset: 1000000.00\n",
      "end_total_asset: 1132177.92\n",
      "total_reward: 132177.92\n",
      "total_cost: 347303.62\n",
      "total_trades: 844\n",
      "Sharpe: 1.623\n",
      "=================================\n",
      "Finished\n",
      "day: 62, episode: 2\n",
      "begin_total_asset: 1000000.00\n",
      "end_total_asset: 1120217.12\n",
      "total_reward: 120217.12\n",
      "total_cost: 0.00\n",
      "total_trades: 806\n",
      "Sharpe: 1.592\n",
      "=================================\n",
      "Finished\n",
      "day: 37, episode: 2\n",
      "begin_total_asset: 1000000.00\n",
      "end_total_asset: 1184481.30\n",
      "total_reward: 184481.30\n",
      "total_cost: 1308.40\n",
      "total_trades: 630\n",
      "Sharpe: 3.684\n",
      "=================================\n",
      "Finished\n"
     ]
    }
   ],
   "source": [
    "for i in range(len(models)):\n",
    "    trade_data = data_split(df, start=val_start[i], end=val_end[i],)\n",
    "    trade_env = StockEnvMine(df=trade_data, turbulence_th=None, iteration=iter, mode=\"\", model_name=\"\", last_state=last_state, initial=initial, **env_kwargs)\n",
    "    env, obs = trade_env.getDummyEnv()\n",
    "    account_memory = None\n",
    "    actions_memory = None\n",
    "    env.reset()\n",
    "    max_step = len(trade_env.df.index.unique()) - 1\n",
    "    for j in range(max_step + 1):\n",
    "        action, states = models[i].predict(obs, deterministic=deterministic)\n",
    "        obs, rewards, dones, info = env.step(action)\n",
    "        if j == max_step - 1:\n",
    "            account_memory = env.env_method(method_name=\"saveAssetMemory\")\n",
    "            actions_memory = env.env_method(method_name=\"saveActionMemory\")\n",
    "            last_state = env.envs[0].render()\n",
    "        if dones[0]:\n",
    "            print(\"Finished\")\n",
    "            break\n",
    "    if i == 0:\n",
    "        initial = False\n",
    "    account_list.append(account_memory[0])\n",
    "    actions_list.append(actions_memory[0])\n",
    "a_new = pd.concat(account_list, ignore_index=True)"
   ]
  },
  {
   "cell_type": "code",
   "execution_count": 9,
   "id": "e2b8e60e",
   "metadata": {},
   "outputs": [
    {
     "name": "stdout",
     "output_type": "stream",
     "text": [
      "[*********************100%%**********************]  1 of 1 completed\n"
     ]
    }
   ],
   "source": [
    "a_new.set_index('date', inplace=True)\n",
    "a_new.index = pd.to_datetime(a_new.index)\n",
    "dji = RetrieveBenchmark()"
   ]
  },
  {
   "cell_type": "code",
   "execution_count": 10,
   "id": "63d4cc1e",
   "metadata": {},
   "outputs": [
    {
     "ename": "",
     "evalue": "",
     "output_type": "error",
     "traceback": [
      "\u001b[1;31mThe Kernel crashed while executing code in the the current cell or a previous cell. Please review the code in the cell(s) to identify a possible cause of the failure. Click <a href='https://aka.ms/vscodeJupyterKernelCrash'>here</a> for more info. View Jupyter <a href='command:jupyter.viewOutput'>log</a> for further details."
     ]
    }
   ],
   "source": [
    "plt.figure()\n",
    "\n",
    "# Plot each DataFrame\n",
    "plt.plot(dji['adjusted_value'], label='DJIA(Benchmark)',linewidth=4.0)\n",
    "plt.plot(a['account_value'], label='Ensembled Agent',linewidth=4.0)\n",
    "\n",
    "# Adding titles and labels\n",
    "plt.title('Comparison of Account Balance')\n",
    "plt.xlabel('Date')\n",
    "plt.ylabel('Account Balance')\n",
    "\n",
    "# Add a legend\n",
    "plt.legend()\n",
    "plt.grid()\n",
    "# Show the plot\n",
    "plt.show()"
   ]
  },
  {
   "cell_type": "code",
   "execution_count": null,
   "id": "507953bd",
   "metadata": {},
   "outputs": [],
   "source": []
  }
 ],
 "metadata": {
  "kernelspec": {
   "display_name": "Python 3 (ipykernel)",
   "language": "python",
   "name": "python3"
  },
  "language_info": {
   "codemirror_mode": {
    "name": "ipython",
    "version": 3
   },
   "file_extension": ".py",
   "mimetype": "text/x-python",
   "name": "python",
   "nbconvert_exporter": "python",
   "pygments_lexer": "ipython3",
   "version": "3.10.9"
  }
 },
 "nbformat": 4,
 "nbformat_minor": 5
}
